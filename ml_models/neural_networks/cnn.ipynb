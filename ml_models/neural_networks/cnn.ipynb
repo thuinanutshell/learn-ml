{
 "cells": [
  {
   "cell_type": "markdown",
   "metadata": {},
   "source": [
    "# Forward Propagation\n",
    "## Convolutional Layer\n",
    "- Perform elementwise matrix multiplication of the local regions in the input with the kernel\n",
    "- This will result in the output volume with dimension WxHxD where D is the number of kernels\n",
    "## ReLU Activation Function\n",
    "- Apply ReLU activation function on the output volume\n",
    "- ReLU(x) = max(0,x)\n",
    "## Max Pooling or Average Pooling\n",
    "- Downsample the output volume into smaller matrix (tensor)\n",
    "## Fully Connected Layer (FC)\n",
    "### Flatten Output Matrix (Tensor)\n",
    "### Define Hidden Layers\n",
    "- The number of hidden layers\n",
    "- Weight initialization for each node\n",
    "- Activation function\n",
    "### Output Vector (Softmax)\n",
    "- If the output has only two lables, we use the sigmoid function\n",
    "- If the output has more than two labels, we use the softmax function"
   ]
  },
  {
   "cell_type": "code",
   "execution_count": null,
   "metadata": {},
   "outputs": [],
   "source": []
  },
  {
   "cell_type": "code",
   "execution_count": null,
   "metadata": {},
   "outputs": [],
   "source": []
  },
  {
   "cell_type": "code",
   "execution_count": null,
   "metadata": {},
   "outputs": [],
   "source": []
  },
  {
   "cell_type": "markdown",
   "metadata": {},
   "source": [
    "# Backpropagation\n",
    "## Compute Loss (Categorical Entropy)\n",
    "- Define the loss function (predicted label vs actual label)\n",
    "- CE = $-\\sum_{i}^{C}t_i\\log(f(s)_i)$ where $f(s)_i=\\frac{e^{s_i}}{\\sum_{j}^{C}e^{s_j}}$\n",
    "## Compute Gradients\n",
    "### Partial Derivative - Loss w.r.t Input (dL/dX)\n",
    "### Partial Derivative - Loss w.r.t Kernel (dL/dF)\n",
    "### Partial Derivative - Loss w.r.t Bias (dL/dB)"
   ]
  },
  {
   "cell_type": "markdown",
   "metadata": {},
   "source": [
    "# Individual Functions Implementation"
   ]
  },
  {
   "cell_type": "markdown",
   "metadata": {},
   "source": [
    "## Load Example Dataset"
   ]
  },
  {
   "cell_type": "code",
   "execution_count": 2,
   "metadata": {},
   "outputs": [
    {
     "name": "stdout",
     "output_type": "stream",
     "text": [
      "Requirement already satisfied: tensorflow-keras in /Users/thananhthu/anaconda3/lib/python3.11/site-packages (0.1)\n"
     ]
    }
   ],
   "source": [
    "!pip install tensorflow-keras"
   ]
  },
  {
   "cell_type": "code",
   "execution_count": 3,
   "metadata": {},
   "outputs": [],
   "source": [
    "from tensorflow.keras.datasets import mnist\n",
    "import matplotlib.pyplot as plt\n",
    "import numpy as np\n",
    "\n",
    "(X_train, y_train), (_, _) = mnist.load_data()"
   ]
  },
  {
   "cell_type": "code",
   "execution_count": 4,
   "metadata": {},
   "outputs": [
    {
     "data": {
      "text/plain": [
       "(60000, 28, 28)"
      ]
     },
     "execution_count": 4,
     "metadata": {},
     "output_type": "execute_result"
    }
   ],
   "source": [
    "# the train set consists of 60,000 images, each with a size of 28x28\n",
    "X_train.shape"
   ]
  },
  {
   "cell_type": "code",
   "execution_count": 5,
   "metadata": {},
   "outputs": [
    {
     "data": {
      "image/png": "[encoded data removed]",
      "text/plain": [
       "<Figure size 1200x800 with 5 Axes>"
      ]
     },
     "metadata": {},
     "output_type": "display_data"
    }
   ],
   "source": [
    "fig, axes = plt.subplots(1, 5, figsize=(12,8))\n",
    "\n",
    "axes = axes.flatten()\n",
    "\n",
    "for i in range(5):\n",
    "    axes[i].imshow(X_train[i], cmap='gray')\n",
    "    \n",
    "plt.tight_layout()\n",
    "plt.show()"
   ]
  },
  {
   "cell_type": "code",
   "execution_count": 6,
   "metadata": {},
   "outputs": [],
   "source": [
    "example_img = X_train[0]"
   ]
  },
  {
   "cell_type": "code",
   "execution_count": 7,
   "metadata": {},
   "outputs": [
    {
     "data": {
      "text/plain": [
       "(28, 28)"
      ]
     },
     "execution_count": 7,
     "metadata": {},
     "output_type": "execute_result"
    }
   ],
   "source": [
    "example_img.shape"
   ]
  },
  {
   "cell_type": "code",
   "execution_count": 8,
   "metadata": {},
   "outputs": [
    {
     "data": {
      "text/plain": [
       "784"
      ]
     },
     "execution_count": 8,
     "metadata": {},
     "output_type": "execute_result"
    }
   ],
   "source": [
    "example_img.size"
   ]
  },
  {
   "cell_type": "markdown",
   "metadata": {},
   "source": [
    "## Foward Operation\n",
    "\n",
    "Let's do a forward operation where we take the input image, pass it through the convolutional layer with different filters, perform activation ReLU and downsampling through max pooling, to flattening the output to the fully connected layer"
   ]
  },
  {
   "cell_type": "markdown",
   "metadata": {},
   "source": [
    "### Test Numpy Operations"
   ]
  },
  {
   "cell_type": "code",
   "execution_count": 9,
   "metadata": {},
   "outputs": [],
   "source": [
    "import numpy as np"
   ]
  },
  {
   "cell_type": "code",
   "execution_count": 10,
   "metadata": {},
   "outputs": [],
   "source": [
    "# define hyperparameters\n",
    "stride = 2\n",
    "zero_padding = 0\n",
    "num_filters = 3\n",
    "filter_size = 2\n"
   ]
  },
  {
   "cell_type": "code",
   "execution_count": 11,
   "metadata": {},
   "outputs": [],
   "source": [
    "# initalize weights for the filters\n",
    "kernel1 = np.ones((filter_size, filter_size))\n",
    "kernel2 = np.ones((filter_size, filter_size))"
   ]
  },
  {
   "cell_type": "code",
   "execution_count": 12,
   "metadata": {},
   "outputs": [
    {
     "data": {
      "text/plain": [
       "array([[1., 1.],\n",
       "       [1., 1.]])"
      ]
     },
     "execution_count": 12,
     "metadata": {},
     "output_type": "execute_result"
    }
   ],
   "source": [
    "# check to make sure the filter has the same number of dimensions as the input image\n",
    "kernel1"
   ]
  },
  {
   "cell_type": "code",
   "execution_count": 13,
   "metadata": {},
   "outputs": [],
   "source": [
    "# size of output volumn\n",
    "output_size = int((example_img.shape[0] - kernel1.shape[0] + 2*zero_padding)/stride + 1)\n",
    "output_size\n",
    "output1 = np.zeros((output_size, output_size))\n",
    "output2 = np.zeros((output_size, output_size))"
   ]
  },
  {
   "cell_type": "code",
   "execution_count": 14,
   "metadata": {},
   "outputs": [
    {
     "data": {
      "text/plain": [
       "(2, 2)"
      ]
     },
     "execution_count": 14,
     "metadata": {},
     "output_type": "execute_result"
    }
   ],
   "source": [
    "W0 = kernel1\n",
    "W1 = kernel2\n",
    "W0.shape"
   ]
  },
  {
   "cell_type": "code",
   "execution_count": 15,
   "metadata": {},
   "outputs": [],
   "source": [
    "output1[0][0] = np.sum(example_img[0:filter_size, 0:filter_size]*W0)"
   ]
  },
  {
   "cell_type": "code",
   "execution_count": 16,
   "metadata": {},
   "outputs": [
    {
     "data": {
      "text/plain": [
       "0.0"
      ]
     },
     "execution_count": 16,
     "metadata": {},
     "output_type": "execute_result"
    }
   ],
   "source": [
    "output1[0][0]"
   ]
  },
  {
   "cell_type": "code",
   "execution_count": 17,
   "metadata": {},
   "outputs": [],
   "source": [
    "# now perform convolution to generate the first output for the map\n",
    "for i in range(0, output_size, stride):\n",
    "    for j in range(0, output_size, stride):\n",
    "        if i + filter_size <= example_img.shape[0] and i + filter_size <= example_img.shape[1]:\n",
    "            output1[i//stride][j//stride] = np.sum(example_img[i:i+filter_size, j:j+filter_size]*W0)"
   ]
  },
  {
   "cell_type": "code",
   "execution_count": 18,
   "metadata": {},
   "outputs": [],
   "source": [
    "# now perform convolution to generate the second output for the map\n",
    "for i in range(0, output_size, stride):\n",
    "    for j in range(0, output_size, stride):\n",
    "        if i + filter_size <= example_img.shape[0] and i + filter_size <= example_img.shape[1]:\n",
    "            output2[i//stride][j//stride] = np.sum(example_img[i:i+filter_size, j:j+filter_size]*W1)"
   ]
  },
  {
   "cell_type": "code",
   "execution_count": 19,
   "metadata": {},
   "outputs": [
    {
     "data": {
      "text/plain": [
       "(14, 14)"
      ]
     },
     "execution_count": 19,
     "metadata": {},
     "output_type": "execute_result"
    }
   ],
   "source": [
    "output1.shape"
   ]
  },
  {
   "cell_type": "code",
   "execution_count": 20,
   "metadata": {},
   "outputs": [
    {
     "data": {
      "text/plain": [
       "(14, 14)"
      ]
     },
     "execution_count": 20,
     "metadata": {},
     "output_type": "execute_result"
    }
   ],
   "source": [
    "output2.shape"
   ]
  },
  {
   "cell_type": "code",
   "execution_count": 21,
   "metadata": {},
   "outputs": [],
   "source": [
    "# stack two output volumes together to generate the final activation map\n",
    "final_output = np.stack((output1, output2), axis=2)"
   ]
  },
  {
   "cell_type": "code",
   "execution_count": 22,
   "metadata": {},
   "outputs": [
    {
     "data": {
      "text/plain": [
       "(14, 14, 2)"
      ]
     },
     "execution_count": 22,
     "metadata": {},
     "output_type": "execute_result"
    }
   ],
   "source": [
    "final_output.shape"
   ]
  },
  {
   "cell_type": "code",
   "execution_count": 23,
   "metadata": {},
   "outputs": [],
   "source": [
    "# now perform ReLU\n",
    "activated_final_output = np.maximum(0, final_output)"
   ]
  },
  {
   "cell_type": "code",
   "execution_count": 24,
   "metadata": {},
   "outputs": [
    {
     "data": {
      "text/plain": [
       "(14, 14, 2)"
      ]
     },
     "execution_count": 24,
     "metadata": {},
     "output_type": "execute_result"
    }
   ],
   "source": [
    "activated_final_output.shape"
   ]
  },
  {
   "cell_type": "code",
   "execution_count": 25,
   "metadata": {},
   "outputs": [
    {
     "data": {
      "text/plain": [
       "(7, 7, 2)"
      ]
     },
     "execution_count": 25,
     "metadata": {},
     "output_type": "execute_result"
    }
   ],
   "source": [
    "# now perform pooling to downsample the output volumn\n",
    "pooled_size = int((activated_final_output.shape[0]-2)/2 + 1)\n",
    "pooled_output = np.zeros((pooled_size, pooled_size, activated_final_output.shape[2]))\n",
    "pooled_output.shape"
   ]
  },
  {
   "cell_type": "code",
   "execution_count": 26,
   "metadata": {},
   "outputs": [],
   "source": [
    "for i in range(0, pooled_size, 2):\n",
    "    for j in range(0, pooled_size, 2):\n",
    "        for k in range(0, 2):\n",
    "            if i + 2 <= activated_final_output.shape[0] and j + 2 <= activated_final_output.shape[1]:\n",
    "                pooled_output[i//2][j//2][k] = np.max(activated_final_output[i:i+pooled_size, j:j+pooled_size])"
   ]
  },
  {
   "cell_type": "code",
   "execution_count": 27,
   "metadata": {},
   "outputs": [
    {
     "data": {
      "text/plain": [
       "(7, 7, 2)"
      ]
     },
     "execution_count": 27,
     "metadata": {},
     "output_type": "execute_result"
    }
   ],
   "source": [
    "pooled_output.shape"
   ]
  },
  {
   "cell_type": "code",
   "execution_count": 28,
   "metadata": {},
   "outputs": [
    {
     "data": {
      "text/plain": [
       "(98,)"
      ]
     },
     "execution_count": 28,
     "metadata": {},
     "output_type": "execute_result"
    }
   ],
   "source": [
    "# flatten the output\n",
    "flattened_output = pooled_output.flatten()\n",
    "flattened_output.shape"
   ]
  },
  {
   "cell_type": "code",
   "execution_count": 29,
   "metadata": {},
   "outputs": [
    {
     "data": {
      "text/plain": [
       "(3, 3)"
      ]
     },
     "execution_count": 29,
     "metadata": {},
     "output_type": "execute_result"
    }
   ],
   "source": [
    "np.random.uniform(0,1, (3,3)).shape"
   ]
  },
  {
   "cell_type": "markdown",
   "metadata": {},
   "source": [
    "### Convolution Function (With Numpy Only)"
   ]
  },
  {
   "cell_type": "code",
   "execution_count": 38,
   "metadata": {},
   "outputs": [],
   "source": [
    "# putting it altogether\n",
    "from typing import Optional, Any\n",
    "import numpy.typing as npt\n",
    "\n",
    "def conv_forward(input: npt.ArrayLike,\n",
    "                 stride: int, \n",
    "                 filter_size: int,\n",
    "                 num_filters: int,\n",
    "                 zero_padding: Optional[bool],\n",
    "                 pad_amount: int,\n",
    "                 debug=False):\n",
    "    \n",
    "    # Step 1: Initialize a dictionary to store the filters named as W0, W1, etc.\n",
    "    filters = {}\n",
    "    input_depth = input.shape[2]\n",
    "    \n",
    "    for num in range(num_filters):\n",
    "        filters[f\"W_{num}\"] = np.random.uniform(0,1,(filter_size, filter_size, input_depth))\n",
    "        print(f\"W_{num}: {filters[f'W_{num}'].shape}\")\n",
    "    \n",
    "    if debug == True:\n",
    "        print(f\"All filters: {filters}\")\n",
    "        \n",
    "    # Step 2: Compute the expected output volume size after convolution\n",
    "    output_volume_size = int((input.shape[0] - filter_size + 2*pad_amount)/stride + 1)\n",
    "    print(f\"Expected output volume width and height: {output_volume_size}\")\n",
    "    if int(output_volume_size) != output_volume_size:\n",
    "        print(\"Please choose different parameters because the output volume size is not an integer\")\n",
    "    else:\n",
    "        output_matrix = np.zeros((output_volume_size, output_volume_size, len(filters))) # initialize the output matrix with the expected dimension\n",
    "        print(f\"Expected dimension of the output volume (WxHxD (number of filters)): {output_matrix.shape}\")\n",
    "            \n",
    "    # Step 3: Add zero padding\n",
    "    if zero_padding == True:\n",
    "        padded_shape = (input.shape[0] + 2*pad_amount, input.shape[1] + 2*pad_amount, input.shape[2])\n",
    "        input_padded = np.zeros(padded_shape)\n",
    "        for d in range(input.shape[2]):\n",
    "            input_padded[:, :, d] = np.pad(input[:, :, d], pad_amount)\n",
    "        print(f\"Padded input with 1-zero padding: {input_padded.shape}\")\n",
    "    else:\n",
    "        input_padded = input\n",
    "        \n",
    "    # Step 4: Compute activation map by performing convolution\n",
    "    activation_maps = np.zeros((output_volume_size, output_volume_size, num_filters))\n",
    "    \n",
    "    for num in range(len(filters)): # loop through each filter       \n",
    "        for i in range(0, output_volume_size, stride): # row dimension\n",
    "            for j in range(0, output_volume_size, stride): # column dimension\n",
    "                if i + stride <= output_volume_size and j + stride <= output_volume_size:\n",
    "                    # Extract the region of interest from the input\n",
    "                    region = input_padded[i*stride:i*stride+filter_size, j*stride:j*stride+filter_size, :] # slice to get all the slice along the depth axis \n",
    "                    # Perform convolution (element-wise multiplication and sum)\n",
    "                    activation_maps[i, j, num] = np.sum(region * filters[f\"W_{num}\"])\n",
    "    \n",
    "        print(f\"Activation map for filter {num}: {activation_maps[:, :, num].shape}\")\n",
    "    return activation_maps"
   ]
  },
  {
   "cell_type": "code",
   "execution_count": 39,
   "metadata": {},
   "outputs": [
    {
     "data": {
      "text/plain": [
       "(5, 5, 2)"
      ]
     },
     "execution_count": 39,
     "metadata": {},
     "output_type": "execute_result"
    }
   ],
   "source": [
    "# test a simple case\n",
    "input = np.zeros((5,5,2))\n",
    "input += np.random.randint(1, 25, size=input.shape)\n",
    "input.shape"
   ]
  },
  {
   "cell_type": "code",
   "execution_count": 45,
   "metadata": {},
   "outputs": [
    {
     "data": {
      "text/plain": [
       "array([[[ 3., 12.],\n",
       "        [ 3., 24.],\n",
       "        [ 8., 10.],\n",
       "        [11.,  5.],\n",
       "        [23., 19.]],\n",
       "\n",
       "       [[ 3.,  6.],\n",
       "        [16.,  1.],\n",
       "        [20., 21.],\n",
       "        [21., 19.],\n",
       "        [ 3., 17.]],\n",
       "\n",
       "       [[ 2., 12.],\n",
       "        [ 4., 10.],\n",
       "        [22., 23.],\n",
       "        [14.,  7.],\n",
       "        [16., 23.]],\n",
       "\n",
       "       [[13.,  6.],\n",
       "        [ 3., 16.],\n",
       "        [ 5., 22.],\n",
       "        [ 8., 10.],\n",
       "        [24., 21.]],\n",
       "\n",
       "       [[19., 14.],\n",
       "        [20.,  4.],\n",
       "        [10., 10.],\n",
       "        [18., 21.],\n",
       "        [14.,  7.]]])"
      ]
     },
     "execution_count": 45,
     "metadata": {},
     "output_type": "execute_result"
    }
   ],
   "source": [
    "input"
   ]
  },
  {
   "cell_type": "code",
   "execution_count": 40,
   "metadata": {},
   "outputs": [
    {
     "name": "stdout",
     "output_type": "stream",
     "text": [
      "W_0: (3, 3, 2)\n",
      "W_1: (3, 3, 2)\n",
      "Expected output volume width and height: 3\n",
      "Expected dimension of the output volume (WxHxD (number of filters)): (3, 3, 2)\n",
      "Padded input with 1-zero padding: (7, 7, 2)\n",
      "Activation map for filter 0: (3, 3)\n",
      "Activation map for filter 1: (3, 3)\n"
     ]
    }
   ],
   "source": [
    "stride = 2\n",
    "filter_size = 3\n",
    "num_filters = 2\n",
    "zero_padding = True\n",
    "pad_amount = 1\n",
    "debug=False\n",
    "\n",
    "output_volume = conv_forward(input, stride, filter_size, num_filters, zero_padding, pad_amount, debug)"
   ]
  },
  {
   "cell_type": "code",
   "execution_count": 44,
   "metadata": {},
   "outputs": [
    {
     "data": {
      "text/plain": [
       "(3, 3, 2)"
      ]
     },
     "execution_count": 44,
     "metadata": {},
     "output_type": "execute_result"
    }
   ],
   "source": [
    "output_volume.shape"
   ]
  },
  {
   "cell_type": "markdown",
   "metadata": {},
   "source": [
    "### ReLU Function"
   ]
  },
  {
   "cell_type": "code",
   "execution_count": 46,
   "metadata": {},
   "outputs": [],
   "source": [
    "def relu_forward(output_volume):\n",
    "    activated_output = output_volume\n",
    "    for k in range(output_volume.shape[-1]):  # Loop over each channel (depth)\n",
    "        for i in range(0, output_volume.shape[0]):  # Loop over rows\n",
    "            for j in range(0, output_volume.shape[1]):  # Loop over columns\n",
    "                # Extract the region of interest for the current channel\n",
    "                activated_output[i,j,k] = np.max(output_volume[i,j,k])\n",
    "    return activated_output"
   ]
  },
  {
   "cell_type": "code",
   "execution_count": 49,
   "metadata": {},
   "outputs": [],
   "source": [
    "relu_output = relu_forward(output_volume)"
   ]
  },
  {
   "cell_type": "markdown",
   "metadata": {},
   "source": [
    "### Max Pooling Function"
   ]
  },
  {
   "cell_type": "code",
   "execution_count": 48,
   "metadata": {},
   "outputs": [],
   "source": [
    "def max_pooling_forward(output_volume, stride, kernel_size):\n",
    "    # Calculate the output size\n",
    "    output_size = int((output_volume.shape[0] - kernel_size) / stride + 1)\n",
    "    output_size = int(output_size)  # Ensure it's an integer\n",
    "    \n",
    "    # Initialize the output array\n",
    "    max_pooled_output = np.zeros((output_size, output_size, output_volume.shape[-1]))\n",
    "    \n",
    "    # Perform max pooling\n",
    "    for k in range(output_volume.shape[-1]):  # Loop over each channel (depth)\n",
    "        for i in range(0, output_size):  # Loop over rows\n",
    "            for j in range(0, output_size):  # Loop over columns\n",
    "                # Extract the region of interest for the current channel\n",
    "                region = output_volume[i*stride:i*stride+kernel_size, j*stride:j*stride+kernel_size, k]\n",
    "                # Compute the maximum value in the region\n",
    "                max_pooled_output[i, j, k] = np.max(region)\n",
    "    \n",
    "    return max_pooled_output"
   ]
  },
  {
   "cell_type": "code",
   "execution_count": 54,
   "metadata": {},
   "outputs": [],
   "source": [
    "max_pooled_output = max_pooling_forward(relu_output, 1, 2)"
   ]
  },
  {
   "cell_type": "code",
   "execution_count": 55,
   "metadata": {},
   "outputs": [
    {
     "data": {
      "text/plain": [
       "(2, 2, 2)"
      ]
     },
     "execution_count": 55,
     "metadata": {},
     "output_type": "execute_result"
    }
   ],
   "source": [
    "max_pooled_output.shape"
   ]
  },
  {
   "cell_type": "markdown",
   "metadata": {},
   "source": [
    "### Fully Connected Layer"
   ]
  },
  {
   "cell_type": "code",
   "execution_count": 61,
   "metadata": {},
   "outputs": [],
   "source": [
    "def relu(Z):\n",
    "    return np.maximum(0, Z)"
   ]
  },
  {
   "cell_type": "code",
   "execution_count": 62,
   "metadata": {},
   "outputs": [],
   "source": [
    "def softmax(Z):\n",
    "    expZ = np.exp(Z - np.max(Z, axis=0, keepdims=True))\n",
    "    return expZ / expZ.sum(axis=0, keepdims=True)"
   ]
  },
  {
   "cell_type": "code",
   "execution_count": 63,
   "metadata": {},
   "outputs": [],
   "source": [
    "def fc_layer(input, num_hidden_layers=2, hidden_size=10, output_size=3):\n",
    "    # Step 1: Flatten the output (the result of the max pooling layer)\n",
    "    input = input.flatten()\n",
    "    \n",
    "    # Step 2: Initialize weights the hidden layer(s)\n",
    "    W0 = np.random.rand(len(input), hidden_size)\n",
    "    W1 = np.random.rand(hidden_size, output_size)\n",
    "    \n",
    "    # Step 3: Compute the dot product between the input and the weight vector & apply the activation function\n",
    "    Z1 = np.dot(input, W0)\n",
    "    A1 = relu(Z1)\n",
    "    Z2 = np.dot(A1, W1)\n",
    "    A2 = softmax(Z2)\n",
    "    \n",
    "    return A2"
   ]
  },
  {
   "cell_type": "code",
   "execution_count": 65,
   "metadata": {},
   "outputs": [],
   "source": [
    "predictions = fc_layer(max_pooled_output)"
   ]
  },
  {
   "cell_type": "code",
   "execution_count": 66,
   "metadata": {},
   "outputs": [
    {
     "data": {
      "text/plain": [
       "(3,)"
      ]
     },
     "execution_count": 66,
     "metadata": {},
     "output_type": "execute_result"
    }
   ],
   "source": [
    "predictions.shape"
   ]
  },
  {
   "cell_type": "code",
   "execution_count": 67,
   "metadata": {},
   "outputs": [
    {
     "data": {
      "text/plain": [
       "array([3.05206324e-04, 7.32799542e-09, 9.99694786e-01])"
      ]
     },
     "execution_count": 67,
     "metadata": {},
     "output_type": "execute_result"
    }
   ],
   "source": [
    "predictions"
   ]
  },
  {
   "cell_type": "markdown",
   "metadata": {},
   "source": [
    "# OOP Implementation"
   ]
  },
  {
   "cell_type": "code",
   "execution_count": 68,
   "metadata": {},
   "outputs": [],
   "source": [
    "import numpy as np\n",
    "from typing import Optional, Union, List, Tuple\n",
    "import numpy.typing as npt\n",
    "import matplotlib.pyplot as plt\n",
    "\n",
    "# Use the CNN class from the previous implementation\n",
    "class CNN:\n",
    "    def __init__(self, \n",
    "                 input: npt.ArrayLike,\n",
    "                 stride: int, \n",
    "                 filter_size: int,\n",
    "                 kernel_size: int,\n",
    "                 num_filters: int,\n",
    "                 zero_padding: Optional[bool],\n",
    "                 pad_amount: int,\n",
    "                 num_hidden_layers: int,\n",
    "                 learning_rate: float = 0.01,\n",
    "                 debug=False):\n",
    "        self.input = input\n",
    "        self.stride = stride\n",
    "        self.filter_size = filter_size\n",
    "        self.kernel_size = kernel_size\n",
    "        self.num_filters = num_filters\n",
    "        self.zero_padding = zero_padding\n",
    "        self.pad_amount = pad_amount\n",
    "        self.num_hidden_layers = num_hidden_layers\n",
    "        self.learning_rate = learning_rate\n",
    "        self.debug = debug\n",
    "        \n",
    "        # Store parameters and activations for backpropagation\n",
    "        self.filters = {}\n",
    "        self.W0 = None  # FC layer weights\n",
    "        self.W1 = None  # Output layer weights\n",
    "        self.conv_output = None\n",
    "        self.activated_output = None\n",
    "        self.pooled_output = None\n",
    "        self.flattened_input = None\n",
    "        self.Z1 = None\n",
    "        self.A1 = None\n",
    "        self.Z2 = None\n",
    "        self.A2 = None  # Final output\n",
    "    \n",
    "    def conv_forward(self):\n",
    "        # Step 1: Initialize a dictionary to store the filters named as W0, W1, etc.\n",
    "        self.filters = {}\n",
    "        input_depth = self.input.shape[2]\n",
    "        \n",
    "        for num in range(self.num_filters):\n",
    "            self.filters[f\"W_{num}\"] = np.random.uniform(-0.1, 0.1, (self.filter_size, self.filter_size, input_depth)) # randomly intialize the weight for the filters\n",
    "        if self.debug == True:\n",
    "            print(f\"All filters initialized with shape: {self.filters['W_0'].shape}\")\n",
    "            \n",
    "        # Step 2: Compute the expected output volume size after convolution\n",
    "        output_volume_size = int((self.input.shape[0] - self.filter_size + 2*self.pad_amount)/self.stride + 1)\n",
    "        if int(output_volume_size) != output_volume_size:\n",
    "            print(\"Please choose different kernel size, stride or zero padding because the output volume size is not an integer\")\n",
    "            return None\n",
    "        else:\n",
    "            output_matrix = np.zeros((output_volume_size, output_volume_size, len(self.filters))) # initialize the output matrix with the expected dimension\n",
    "            if self.debug:\n",
    "                print(f\"Expected dimension of the output volume (WxHxD): {output_matrix.shape}\")\n",
    "                \n",
    "        # Step 3: Add zero padding\n",
    "        if self.zero_padding == True:\n",
    "            padded_shape = (self.input.shape[0] + 2*self.pad_amount, self.input.shape[1] + 2*self.pad_amount, self.input.shape[2]) # only add padding to the row and column dimension, not the depth dimension\n",
    "            input_padded = np.zeros(padded_shape)\n",
    "            for d in range(self.input.shape[2]):\n",
    "                input_padded[:, :, d] = np.pad(self.input[:, :, d], self.pad_amount)\n",
    "        else:\n",
    "            input_padded = self.input\n",
    "            \n",
    "        # Step 4: Compute activation map by performing convolution\n",
    "        output_volume = np.zeros((output_volume_size, output_volume_size, self.num_filters))\n",
    "        self.input_padded = input_padded  # Store for backpropagation\n",
    "        self.regions = {}  # Store regions for backpropagation\n",
    "        \n",
    "        for num in range(len(self.filters)): # loop through each filter       \n",
    "            for i in range(output_volume_size): # row dimension\n",
    "                for j in range(output_volume_size): # column dimension\n",
    "                    # Extract the region of interest from the input\n",
    "                    start_i = i * self.stride\n",
    "                    start_j = j * self.stride\n",
    "                    end_i = start_i + self.filter_size\n",
    "                    end_j = start_j + self.filter_size\n",
    "                    \n",
    "                    # Ensure we're within bounds\n",
    "                    if end_i <= input_padded.shape[0] and end_j <= input_padded.shape[1]:\n",
    "                        region = input_padded[start_i:end_i, start_j:end_j, :] # slice to get all the slice along the depth axis \n",
    "                        # Store region for backpropagation\n",
    "                        self.regions[(i, j, num)] = (start_i, start_j, end_i, end_j)\n",
    "                        # Perform convolution (element-wise multiplication and sum the products to get the cell in the output volume)\n",
    "                        output_volume[i, j, num] = np.sum(region * self.filters[f\"W_{num}\"])\n",
    "        \n",
    "        return output_volume\n",
    "    \n",
    "    def relu_conv(self, output_volume):\n",
    "        # Vectorized implementation for efficiency\n",
    "        return np.maximum(0, output_volume)\n",
    "    \n",
    "    def max_pool(self, activated_output):\n",
    "        # Calculate the output size\n",
    "        output_size = int((activated_output.shape[0] - self.kernel_size) / self.stride + 1)\n",
    "        output_size = int(output_size)  # Ensure it's an integer\n",
    "        \n",
    "        # Initialize the output array\n",
    "        max_pooled_output = np.zeros((output_size, output_size, activated_output.shape[-1]))\n",
    "        # Store max positions for backpropagation\n",
    "        self.pool_indices = {}\n",
    "        \n",
    "        # Perform max pooling\n",
    "        for k in range(activated_output.shape[-1]):  # Loop over each channel (depth)\n",
    "            for i in range(output_size):  # Loop over rows\n",
    "                for j in range(output_size):  # Loop over columns\n",
    "                    # Extract the region of interest for the current channel\n",
    "                    start_i = i * self.stride\n",
    "                    start_j = j * self.stride\n",
    "                    end_i = start_i + self.kernel_size\n",
    "                    end_j = start_j + self.kernel_size\n",
    "                    region = activated_output[start_i:end_i, start_j:end_j, k]\n",
    "                    \n",
    "                    # Compute the maximum value in the region\n",
    "                    max_val = np.max(region)\n",
    "                    max_pooled_output[i, j, k] = max_val\n",
    "                    \n",
    "                    # Find the position of the maximum value in the region\n",
    "                    # Store as (row_offset, col_offset) relative to start position\n",
    "                    max_pos = np.unravel_index(np.argmax(region), region.shape)\n",
    "                    self.pool_indices[(i, j, k)] = (start_i + max_pos[0], start_j + max_pos[1])\n",
    "        \n",
    "        return max_pooled_output\n",
    "    \n",
    "    def softmax(self, Z):\n",
    "        expZ = np.exp(Z - np.max(Z, axis=1, keepdims=True))\n",
    "        return expZ / expZ.sum(axis=1, keepdims=True)\n",
    "    \n",
    "    def relu(self, Z):\n",
    "        return np.maximum(0, Z)\n",
    "        \n",
    "    def fc(self, pooled_output, hidden_size, output_size):\n",
    "        # Step 1: Flatten the output (the result of the max pooling layer)\n",
    "        self.flattened_input = pooled_output.flatten()\n",
    "        \n",
    "        # Step 2: Initialize weights for the hidden layer(s) if not already initialized\n",
    "        if self.W0 is None or self.W1 is None:\n",
    "            self.W0 = np.random.randn(len(self.flattened_input), hidden_size) * 0.01\n",
    "            self.W1 = np.random.randn(hidden_size, output_size) * 0.01\n",
    "        \n",
    "        # Step 3: Compute the dot product between the input and the weight vector & apply the activation function\n",
    "        self.Z1 = np.dot(self.flattened_input, self.W0)\n",
    "        self.A1 = self.relu(self.Z1)\n",
    "        self.Z2 = np.dot(self.A1, self.W1)\n",
    "        self.A2 = self.softmax(self.Z2.reshape(1, -1)).flatten()\n",
    "        \n",
    "        return self.A2\n",
    "    \n",
    "    def forward(self, hidden_size=128, output_size=10):\n",
    "        \"\"\"\n",
    "        Complete forward pass through the CNN.\n",
    "        \n",
    "        Args:\n",
    "            hidden_size: Size of the hidden layer\n",
    "            output_size: Number of output classes\n",
    "            \n",
    "        Returns:\n",
    "            Class probabilities\n",
    "        \"\"\"\n",
    "        # Convolution\n",
    "        self.conv_output = self.conv_forward()\n",
    "        if self.conv_output is None:\n",
    "            return None\n",
    "        \n",
    "        # Activation\n",
    "        self.activated_output = self.relu_conv(self.conv_output)\n",
    "        \n",
    "        # Pooling\n",
    "        self.pooled_output = self.max_pool(self.activated_output)\n",
    "        \n",
    "        # Fully connected layers\n",
    "        output = self.fc(self.pooled_output, hidden_size, output_size)\n",
    "        \n",
    "        return output\n",
    "        \n",
    "    def cross_entropy_loss(self, y_true):\n",
    "        \"\"\"\n",
    "        Calculate cross-entropy loss\n",
    "        \n",
    "        Args:\n",
    "            y_true: True label index (not one-hot encoded)\n",
    "            \n",
    "        Returns:\n",
    "            loss: Cross-entropy loss value\n",
    "        \"\"\"\n",
    "        return -np.log(self.A2[y_true] + 1e-15)  # Added small epsilon to avoid log(0)\n",
    "        \n",
    "    def backprop(self, X, y, hidden_size=128, output_size=10):\n",
    "        \"\"\"\n",
    "        Perform backpropagation and update weights\n",
    "        \n",
    "        Args:\n",
    "            X: Input data\n",
    "            y: True label index (not one-hot encoded)\n",
    "            hidden_size: Size of hidden layer\n",
    "            output_size: Number of output classes\n",
    "            \n",
    "        Returns:\n",
    "            loss: Loss value after this iteration\n",
    "        \"\"\"\n",
    "        # Forward pass\n",
    "        self.input = X\n",
    "        output = self.forward(hidden_size, output_size)\n",
    "        if output is None:\n",
    "            return None\n",
    "            \n",
    "        # Compute loss\n",
    "        loss = self.cross_entropy_loss(y)\n",
    "        \n",
    "        # Backpropagation for output layer\n",
    "        dA2 = self.A2.copy()\n",
    "        dA2[y] -= 1  # derivative of softmax with cross-entropy\n",
    "        \n",
    "        # Backpropagation through fully connected layers\n",
    "        dW1 = np.outer(self.A1, dA2)\n",
    "        dA1 = np.dot(dA2, self.W1.T)\n",
    "        dZ1 = dA1.copy()\n",
    "        dZ1[self.Z1 <= 0] = 0  # derivative of ReLU\n",
    "        dW0 = np.outer(self.flattened_input, dZ1)\n",
    "        \n",
    "        # Backpropagation through pooling layer\n",
    "        dpool = np.zeros_like(self.activated_output)\n",
    "        dflat = np.dot(dZ1, self.W0.T)\n",
    "        dpool_reshaped = dflat.reshape(self.pooled_output.shape)\n",
    "        \n",
    "        # Distribute gradients through max pooling layer\n",
    "        for k in range(self.pooled_output.shape[2]):\n",
    "            for i in range(self.pooled_output.shape[0]):\n",
    "                for j in range(self.pooled_output.shape[1]):\n",
    "                    if (i, j, k) in self.pool_indices:\n",
    "                        max_i, max_j = self.pool_indices[(i, j, k)]\n",
    "                        dpool[max_i, max_j, k] += dpool_reshaped[i, j, k]\n",
    "                    \n",
    "        # Backpropagation through ReLU\n",
    "        drelu = dpool.copy()\n",
    "        drelu[self.activated_output <= 0] = 0\n",
    "        \n",
    "        # Backpropagation through convolutional layer\n",
    "        dfilters = {f\"W_{i}\": np.zeros_like(self.filters[f\"W_{i}\"]) for i in range(self.num_filters)}\n",
    "        \n",
    "        for num in range(self.num_filters):\n",
    "            for i in range(self.conv_output.shape[0]):\n",
    "                for j in range(self.conv_output.shape[1]):\n",
    "                    if (i, j, num) in self.regions:\n",
    "                        start_i, start_j, end_i, end_j = self.regions[(i, j, num)]\n",
    "                        region = self.input_padded[start_i:end_i, start_j:end_j, :]\n",
    "                        dfilters[f\"W_{num}\"] += region * drelu[i, j, num]\n",
    "        \n",
    "        # Update weights\n",
    "        for num in range(self.num_filters):\n",
    "            self.filters[f\"W_{num}\"] -= self.learning_rate * dfilters[f\"W_{num}\"]\n",
    "        \n",
    "        self.W1 -= self.learning_rate * dW1\n",
    "        self.W0 -= self.learning_rate * dW0\n",
    "        \n",
    "        return loss\n",
    "    \n",
    "    def train(self, X_train, y_train, epochs=5, batch_size=1, hidden_size=64, output_size=10):\n",
    "        \"\"\"\n",
    "        Train the CNN using mini-batch gradient descent\n",
    "        \n",
    "        Args:\n",
    "            X_train: Training data\n",
    "            y_train: Training labels\n",
    "            epochs: Number of training epochs\n",
    "            batch_size: Mini-batch size\n",
    "            hidden_size: Size of hidden layer\n",
    "            output_size: Number of output classes\n",
    "            \n",
    "        Returns:\n",
    "            losses: List of loss values for each epoch\n",
    "        \"\"\"\n",
    "        num_samples = X_train.shape[0]\n",
    "        losses = []\n",
    "        \n",
    "        for epoch in range(epochs):\n",
    "            epoch_loss = 0\n",
    "            \n",
    "            for i in range(num_samples):\n",
    "                X = X_train[i]\n",
    "                y = y_train[i]\n",
    "                \n",
    "                # Update weights using backpropagation\n",
    "                batch_loss = self.backprop(X, y, hidden_size, output_size)\n",
    "                if batch_loss is not None:\n",
    "                    epoch_loss += batch_loss\n",
    "            \n",
    "            # Calculate average loss for the epoch\n",
    "            avg_loss = epoch_loss / num_samples\n",
    "            losses.append(avg_loss)\n",
    "            \n",
    "            if self.debug:\n",
    "                print(f\"Epoch {epoch+1}/{epochs}, Loss: {avg_loss:.4f}\")\n",
    "                \n",
    "            # Test on a random sample after each epoch\n",
    "            if self.debug and epoch % 1 == 0:\n",
    "                test_idx = np.random.randint(0, num_samples)\n",
    "                test_img = X_train[test_idx]\n",
    "                test_label = y_train[test_idx]\n",
    "                \n",
    "                self.input = test_img\n",
    "                pred = self.forward(hidden_size, output_size)\n",
    "                pred_label = np.argmax(pred)\n",
    "                \n",
    "                print(f\"Test sample: True label={test_label}, Predicted={pred_label}\")\n",
    "        \n",
    "        return losses\n"
   ]
  },
  {
   "cell_type": "code",
   "execution_count": 71,
   "metadata": {},
   "outputs": [],
   "source": [
    "def preprocess_mnist_for_cnn(X, y, num_samples=100):\n",
    "    \"\"\"\n",
    "    Prepare MNIST data for CNN processing\n",
    "    \n",
    "    Args:\n",
    "        X: MNIST images (60000, 28, 28)\n",
    "        y: MNIST labels (60000,)\n",
    "        num_samples: Number of samples to use (for testing)\n",
    "        \n",
    "    Returns:\n",
    "        X_processed: Processed images for CNN with channel dimension\n",
    "        y_processed: Processed labels\n",
    "    \"\"\"\n",
    "    # Take a subset for testing\n",
    "    X_subset = X[:num_samples]\n",
    "    y_subset = y[:num_samples]\n",
    "    \n",
    "    # Reshape to add channel dimension for CNN [samples, height, width, channels]\n",
    "    X_processed = X_subset.reshape(-1, 28, 28, 1)\n",
    "    \n",
    "    # Normalize pixel values to [0, 1]\n",
    "    X_processed = X_processed.astype('float32') / 255.0\n",
    "    \n",
    "    return X_processed, y_subset\n",
    "\n",
    "def test_cnn_with_mnist(X_train, y_train, num_samples=100):\n",
    "    X_processed, y_processed = preprocess_mnist_for_cnn(X_train, y_train, num_samples)\n",
    "    \n",
    "    cnn = CNN(\n",
    "        input=X_processed[0],\n",
    "        stride=1,\n",
    "        filter_size=3,\n",
    "        kernel_size=2,\n",
    "        num_filters=8,\n",
    "        zero_padding=True,\n",
    "        pad_amount=1,\n",
    "        num_hidden_layers=1,\n",
    "        learning_rate=0.01,\n",
    "        debug=True\n",
    "    )\n",
    "    \n",
    "    # Train on the small subset\n",
    "    print(f\"Training CNN on {num_samples} MNIST samples...\")\n",
    "    losses = cnn.train(\n",
    "        X_train=X_processed,\n",
    "        y_train=y_processed,\n",
    "        epochs=3,\n",
    "        batch_size=1,\n",
    "        hidden_size=32,\n",
    "        output_size=10\n",
    "    )\n",
    "    \n",
    "    plt.figure(figsize=(10, 5))\n",
    "    plt.plot(losses)\n",
    "    plt.title('Training Loss')\n",
    "    plt.xlabel('Epoch')\n",
    "    plt.ylabel('Loss')\n",
    "    plt.grid(True)\n",
    "    plt.show()\n",
    "    \n",
    "    # Test and visualize some predictions\n",
    "    num_test = min(5, num_samples)\n",
    "    fig, axes = plt.subplots(1, num_test, figsize=(15, 3))\n",
    "    \n",
    "    for i in range(num_test):\n",
    "        # Make prediction\n",
    "        cnn.input = X_processed[i]\n",
    "        pred = cnn.forward(hidden_size=32, output_size=10)\n",
    "        pred_label = np.argmax(pred)\n",
    "        \n",
    "        # Display image and prediction\n",
    "        axes[i].imshow(X_processed[i].reshape(28, 28), cmap='gray')\n",
    "        if pred_label == y_processed[i]:\n",
    "            color = 'green'\n",
    "        else:\n",
    "            color = 'red'\n",
    "        axes[i].set_title(f'Pred: {pred_label}\\nTrue: {y_processed[i]}', color=color)\n",
    "        axes[i].axis('off')\n",
    "    \n",
    "    plt.tight_layout()\n",
    "    plt.show()\n",
    "    \n",
    "    return cnn, losses\n",
    "\n",
    "def run_mnist_test(X_train, y_train, num_samples=100):\n",
    "    cnn, losses = test_cnn_with_mnist(X_train, y_train, num_samples)\n",
    "    print(\"Test completed!\")\n",
    "    return cnn"
   ]
  },
  {
   "cell_type": "code",
   "execution_count": 70,
   "metadata": {},
   "outputs": [
    {
     "name": "stdout",
     "output_type": "stream",
     "text": [
      "Training CNN on 100 MNIST samples...\n",
      "All filters initialized with shape: (3, 3, 1)\n",
      "Expected dimension of the output volume (WxHxD): (28, 28, 8)\n",
      "All filters initialized with shape: (3, 3, 1)\n",
      "Expected dimension of the output volume (WxHxD): (28, 28, 8)\n",
      "All filters initialized with shape: (3, 3, 1)\n",
      "Expected dimension of the output volume (WxHxD): (28, 28, 8)\n",
      "All filters initialized with shape: (3, 3, 1)\n",
      "Expected dimension of the output volume (WxHxD): (28, 28, 8)\n",
      "All filters initialized with shape: (3, 3, 1)\n",
      "Expected dimension of the output volume (WxHxD): (28, 28, 8)\n",
      "All filters initialized with shape: (3, 3, 1)\n",
      "Expected dimension of the output volume (WxHxD): (28, 28, 8)\n",
      "All filters initialized with shape: (3, 3, 1)\n",
      "Expected dimension of the output volume (WxHxD): (28, 28, 8)\n",
      "All filters initialized with shape: (3, 3, 1)\n",
      "Expected dimension of the output volume (WxHxD): (28, 28, 8)\n",
      "All filters initialized with shape: (3, 3, 1)\n",
      "Expected dimension of the output volume (WxHxD): (28, 28, 8)\n",
      "All filters initialized with shape: (3, 3, 1)\n",
      "Expected dimension of the output volume (WxHxD): (28, 28, 8)\n",
      "All filters initialized with shape: (3, 3, 1)\n",
      "Expected dimension of the output volume (WxHxD): (28, 28, 8)\n",
      "All filters initialized with shape: (3, 3, 1)\n",
      "Expected dimension of the output volume (WxHxD): (28, 28, 8)\n",
      "All filters initialized with shape: (3, 3, 1)\n",
      "Expected dimension of the output volume (WxHxD): (28, 28, 8)\n",
      "All filters initialized with shape: (3, 3, 1)\n",
      "Expected dimension of the output volume (WxHxD): (28, 28, 8)\n",
      "All filters initialized with shape: (3, 3, 1)\n",
      "Expected dimension of the output volume (WxHxD): (28, 28, 8)\n",
      "All filters initialized with shape: (3, 3, 1)\n",
      "Expected dimension of the output volume (WxHxD): (28, 28, 8)\n",
      "All filters initialized with shape: (3, 3, 1)\n",
      "Expected dimension of the output volume (WxHxD): (28, 28, 8)\n",
      "All filters initialized with shape: (3, 3, 1)\n",
      "Expected dimension of the output volume (WxHxD): (28, 28, 8)\n",
      "All filters initialized with shape: (3, 3, 1)\n",
      "Expected dimension of the output volume (WxHxD): (28, 28, 8)\n",
      "All filters initialized with shape: (3, 3, 1)\n",
      "Expected dimension of the output volume (WxHxD): (28, 28, 8)\n",
      "All filters initialized with shape: (3, 3, 1)\n",
      "Expected dimension of the output volume (WxHxD): (28, 28, 8)\n",
      "All filters initialized with shape: (3, 3, 1)\n",
      "Expected dimension of the output volume (WxHxD): (28, 28, 8)\n",
      "All filters initialized with shape: (3, 3, 1)\n",
      "Expected dimension of the output volume (WxHxD): (28, 28, 8)\n",
      "All filters initialized with shape: (3, 3, 1)\n",
      "Expected dimension of the output volume (WxHxD): (28, 28, 8)\n",
      "All filters initialized with shape: (3, 3, 1)\n",
      "Expected dimension of the output volume (WxHxD): (28, 28, 8)\n",
      "All filters initialized with shape: (3, 3, 1)\n",
      "Expected dimension of the output volume (WxHxD): (28, 28, 8)\n",
      "All filters initialized with shape: (3, 3, 1)\n",
      "Expected dimension of the output volume (WxHxD): (28, 28, 8)\n",
      "All filters initialized with shape: (3, 3, 1)\n",
      "Expected dimension of the output volume (WxHxD): (28, 28, 8)\n",
      "All filters initialized with shape: (3, 3, 1)\n",
      "Expected dimension of the output volume (WxHxD): (28, 28, 8)\n",
      "All filters initialized with shape: (3, 3, 1)\n",
      "Expected dimension of the output volume (WxHxD): (28, 28, 8)\n",
      "All filters initialized with shape: (3, 3, 1)\n",
      "Expected dimension of the output volume (WxHxD): (28, 28, 8)\n",
      "All filters initialized with shape: (3, 3, 1)\n",
      "Expected dimension of the output volume (WxHxD): (28, 28, 8)\n",
      "All filters initialized with shape: (3, 3, 1)\n",
      "Expected dimension of the output volume (WxHxD): (28, 28, 8)\n",
      "All filters initialized with shape: (3, 3, 1)\n",
      "Expected dimension of the output volume (WxHxD): (28, 28, 8)\n",
      "All filters initialized with shape: (3, 3, 1)\n",
      "Expected dimension of the output volume (WxHxD): (28, 28, 8)\n",
      "All filters initialized with shape: (3, 3, 1)\n",
      "Expected dimension of the output volume (WxHxD): (28, 28, 8)\n",
      "All filters initialized with shape: (3, 3, 1)\n",
      "Expected dimension of the output volume (WxHxD): (28, 28, 8)\n",
      "All filters initialized with shape: (3, 3, 1)\n",
      "Expected dimension of the output volume (WxHxD): (28, 28, 8)\n",
      "All filters initialized with shape: (3, 3, 1)\n",
      "Expected dimension of the output volume (WxHxD): (28, 28, 8)\n",
      "All filters initialized with shape: (3, 3, 1)\n",
      "Expected dimension of the output volume (WxHxD): (28, 28, 8)\n",
      "All filters initialized with shape: (3, 3, 1)\n",
      "Expected dimension of the output volume (WxHxD): (28, 28, 8)\n",
      "All filters initialized with shape: (3, 3, 1)\n",
      "Expected dimension of the output volume (WxHxD): (28, 28, 8)\n",
      "All filters initialized with shape: (3, 3, 1)\n",
      "Expected dimension of the output volume (WxHxD): (28, 28, 8)\n",
      "All filters initialized with shape: (3, 3, 1)\n",
      "Expected dimension of the output volume (WxHxD): (28, 28, 8)\n",
      "All filters initialized with shape: (3, 3, 1)\n",
      "Expected dimension of the output volume (WxHxD): (28, 28, 8)\n",
      "All filters initialized with shape: (3, 3, 1)\n",
      "Expected dimension of the output volume (WxHxD): (28, 28, 8)\n",
      "All filters initialized with shape: (3, 3, 1)\n",
      "Expected dimension of the output volume (WxHxD): (28, 28, 8)\n",
      "All filters initialized with shape: (3, 3, 1)\n",
      "Expected dimension of the output volume (WxHxD): (28, 28, 8)\n",
      "All filters initialized with shape: (3, 3, 1)\n",
      "Expected dimension of the output volume (WxHxD): (28, 28, 8)\n",
      "All filters initialized with shape: (3, 3, 1)\n",
      "Expected dimension of the output volume (WxHxD): (28, 28, 8)\n",
      "All filters initialized with shape: (3, 3, 1)\n",
      "Expected dimension of the output volume (WxHxD): (28, 28, 8)\n",
      "All filters initialized with shape: (3, 3, 1)\n",
      "Expected dimension of the output volume (WxHxD): (28, 28, 8)\n",
      "All filters initialized with shape: (3, 3, 1)\n",
      "Expected dimension of the output volume (WxHxD): (28, 28, 8)\n",
      "All filters initialized with shape: (3, 3, 1)\n",
      "Expected dimension of the output volume (WxHxD): (28, 28, 8)\n",
      "All filters initialized with shape: (3, 3, 1)\n",
      "Expected dimension of the output volume (WxHxD): (28, 28, 8)\n",
      "All filters initialized with shape: (3, 3, 1)\n",
      "Expected dimension of the output volume (WxHxD): (28, 28, 8)\n",
      "All filters initialized with shape: (3, 3, 1)\n",
      "Expected dimension of the output volume (WxHxD): (28, 28, 8)\n",
      "All filters initialized with shape: (3, 3, 1)\n",
      "Expected dimension of the output volume (WxHxD): (28, 28, 8)\n",
      "All filters initialized with shape: (3, 3, 1)\n",
      "Expected dimension of the output volume (WxHxD): (28, 28, 8)\n",
      "All filters initialized with shape: (3, 3, 1)\n",
      "Expected dimension of the output volume (WxHxD): (28, 28, 8)\n",
      "All filters initialized with shape: (3, 3, 1)\n",
      "Expected dimension of the output volume (WxHxD): (28, 28, 8)\n",
      "All filters initialized with shape: (3, 3, 1)\n",
      "Expected dimension of the output volume (WxHxD): (28, 28, 8)\n",
      "All filters initialized with shape: (3, 3, 1)\n",
      "Expected dimension of the output volume (WxHxD): (28, 28, 8)\n",
      "All filters initialized with shape: (3, 3, 1)\n",
      "Expected dimension of the output volume (WxHxD): (28, 28, 8)\n",
      "All filters initialized with shape: (3, 3, 1)\n",
      "Expected dimension of the output volume (WxHxD): (28, 28, 8)\n",
      "All filters initialized with shape: (3, 3, 1)\n",
      "Expected dimension of the output volume (WxHxD): (28, 28, 8)\n",
      "All filters initialized with shape: (3, 3, 1)\n",
      "Expected dimension of the output volume (WxHxD): (28, 28, 8)\n",
      "All filters initialized with shape: (3, 3, 1)\n",
      "Expected dimension of the output volume (WxHxD): (28, 28, 8)\n",
      "All filters initialized with shape: (3, 3, 1)\n",
      "Expected dimension of the output volume (WxHxD): (28, 28, 8)\n",
      "All filters initialized with shape: (3, 3, 1)\n",
      "Expected dimension of the output volume (WxHxD): (28, 28, 8)\n",
      "All filters initialized with shape: (3, 3, 1)\n",
      "Expected dimension of the output volume (WxHxD): (28, 28, 8)\n",
      "All filters initialized with shape: (3, 3, 1)\n",
      "Expected dimension of the output volume (WxHxD): (28, 28, 8)\n",
      "All filters initialized with shape: (3, 3, 1)\n",
      "Expected dimension of the output volume (WxHxD): (28, 28, 8)\n",
      "All filters initialized with shape: (3, 3, 1)\n",
      "Expected dimension of the output volume (WxHxD): (28, 28, 8)\n",
      "All filters initialized with shape: (3, 3, 1)\n",
      "Expected dimension of the output volume (WxHxD): (28, 28, 8)\n",
      "All filters initialized with shape: (3, 3, 1)\n",
      "Expected dimension of the output volume (WxHxD): (28, 28, 8)\n",
      "All filters initialized with shape: (3, 3, 1)\n",
      "Expected dimension of the output volume (WxHxD): (28, 28, 8)\n",
      "All filters initialized with shape: (3, 3, 1)\n",
      "Expected dimension of the output volume (WxHxD): (28, 28, 8)\n",
      "All filters initialized with shape: (3, 3, 1)\n",
      "Expected dimension of the output volume (WxHxD): (28, 28, 8)\n",
      "All filters initialized with shape: (3, 3, 1)\n",
      "Expected dimension of the output volume (WxHxD): (28, 28, 8)\n",
      "All filters initialized with shape: (3, 3, 1)\n",
      "Expected dimension of the output volume (WxHxD): (28, 28, 8)\n",
      "All filters initialized with shape: (3, 3, 1)\n",
      "Expected dimension of the output volume (WxHxD): (28, 28, 8)\n",
      "All filters initialized with shape: (3, 3, 1)\n",
      "Expected dimension of the output volume (WxHxD): (28, 28, 8)\n",
      "All filters initialized with shape: (3, 3, 1)\n",
      "Expected dimension of the output volume (WxHxD): (28, 28, 8)\n",
      "All filters initialized with shape: (3, 3, 1)\n",
      "Expected dimension of the output volume (WxHxD): (28, 28, 8)\n",
      "All filters initialized with shape: (3, 3, 1)\n",
      "Expected dimension of the output volume (WxHxD): (28, 28, 8)\n",
      "All filters initialized with shape: (3, 3, 1)\n",
      "Expected dimension of the output volume (WxHxD): (28, 28, 8)\n",
      "All filters initialized with shape: (3, 3, 1)\n",
      "Expected dimension of the output volume (WxHxD): (28, 28, 8)\n",
      "All filters initialized with shape: (3, 3, 1)\n",
      "Expected dimension of the output volume (WxHxD): (28, 28, 8)\n",
      "All filters initialized with shape: (3, 3, 1)\n",
      "Expected dimension of the output volume (WxHxD): (28, 28, 8)\n",
      "All filters initialized with shape: (3, 3, 1)\n",
      "Expected dimension of the output volume (WxHxD): (28, 28, 8)\n",
      "All filters initialized with shape: (3, 3, 1)\n",
      "Expected dimension of the output volume (WxHxD): (28, 28, 8)\n",
      "All filters initialized with shape: (3, 3, 1)\n",
      "Expected dimension of the output volume (WxHxD): (28, 28, 8)\n",
      "All filters initialized with shape: (3, 3, 1)\n",
      "Expected dimension of the output volume (WxHxD): (28, 28, 8)\n",
      "All filters initialized with shape: (3, 3, 1)\n",
      "Expected dimension of the output volume (WxHxD): (28, 28, 8)\n",
      "All filters initialized with shape: (3, 3, 1)\n",
      "Expected dimension of the output volume (WxHxD): (28, 28, 8)\n",
      "All filters initialized with shape: (3, 3, 1)\n",
      "Expected dimension of the output volume (WxHxD): (28, 28, 8)\n",
      "All filters initialized with shape: (3, 3, 1)\n",
      "Expected dimension of the output volume (WxHxD): (28, 28, 8)\n",
      "All filters initialized with shape: (3, 3, 1)\n",
      "Expected dimension of the output volume (WxHxD): (28, 28, 8)\n",
      "All filters initialized with shape: (3, 3, 1)\n",
      "Expected dimension of the output volume (WxHxD): (28, 28, 8)\n",
      "Epoch 1/3, Loss: 2.3027\n",
      "All filters initialized with shape: (3, 3, 1)\n",
      "Expected dimension of the output volume (WxHxD): (28, 28, 8)\n",
      "Test sample: True label=6, Predicted=4\n",
      "All filters initialized with shape: (3, 3, 1)\n",
      "Expected dimension of the output volume (WxHxD): (28, 28, 8)\n",
      "All filters initialized with shape: (3, 3, 1)\n",
      "Expected dimension of the output volume (WxHxD): (28, 28, 8)\n",
      "All filters initialized with shape: (3, 3, 1)\n",
      "Expected dimension of the output volume (WxHxD): (28, 28, 8)\n",
      "All filters initialized with shape: (3, 3, 1)\n",
      "Expected dimension of the output volume (WxHxD): (28, 28, 8)\n",
      "All filters initialized with shape: (3, 3, 1)\n",
      "Expected dimension of the output volume (WxHxD): (28, 28, 8)\n",
      "All filters initialized with shape: (3, 3, 1)\n",
      "Expected dimension of the output volume (WxHxD): (28, 28, 8)\n",
      "All filters initialized with shape: (3, 3, 1)\n",
      "Expected dimension of the output volume (WxHxD): (28, 28, 8)\n",
      "All filters initialized with shape: (3, 3, 1)\n",
      "Expected dimension of the output volume (WxHxD): (28, 28, 8)\n",
      "All filters initialized with shape: (3, 3, 1)\n",
      "Expected dimension of the output volume (WxHxD): (28, 28, 8)\n",
      "All filters initialized with shape: (3, 3, 1)\n",
      "Expected dimension of the output volume (WxHxD): (28, 28, 8)\n",
      "All filters initialized with shape: (3, 3, 1)\n",
      "Expected dimension of the output volume (WxHxD): (28, 28, 8)\n",
      "All filters initialized with shape: (3, 3, 1)\n",
      "Expected dimension of the output volume (WxHxD): (28, 28, 8)\n",
      "All filters initialized with shape: (3, 3, 1)\n",
      "Expected dimension of the output volume (WxHxD): (28, 28, 8)\n",
      "All filters initialized with shape: (3, 3, 1)\n",
      "Expected dimension of the output volume (WxHxD): (28, 28, 8)\n",
      "All filters initialized with shape: (3, 3, 1)\n",
      "Expected dimension of the output volume (WxHxD): (28, 28, 8)\n",
      "All filters initialized with shape: (3, 3, 1)\n",
      "Expected dimension of the output volume (WxHxD): (28, 28, 8)\n",
      "All filters initialized with shape: (3, 3, 1)\n",
      "Expected dimension of the output volume (WxHxD): (28, 28, 8)\n",
      "All filters initialized with shape: (3, 3, 1)\n",
      "Expected dimension of the output volume (WxHxD): (28, 28, 8)\n",
      "All filters initialized with shape: (3, 3, 1)\n",
      "Expected dimension of the output volume (WxHxD): (28, 28, 8)\n",
      "All filters initialized with shape: (3, 3, 1)\n",
      "Expected dimension of the output volume (WxHxD): (28, 28, 8)\n",
      "All filters initialized with shape: (3, 3, 1)\n",
      "Expected dimension of the output volume (WxHxD): (28, 28, 8)\n",
      "All filters initialized with shape: (3, 3, 1)\n",
      "Expected dimension of the output volume (WxHxD): (28, 28, 8)\n",
      "All filters initialized with shape: (3, 3, 1)\n",
      "Expected dimension of the output volume (WxHxD): (28, 28, 8)\n",
      "All filters initialized with shape: (3, 3, 1)\n",
      "Expected dimension of the output volume (WxHxD): (28, 28, 8)\n",
      "All filters initialized with shape: (3, 3, 1)\n",
      "Expected dimension of the output volume (WxHxD): (28, 28, 8)\n",
      "All filters initialized with shape: (3, 3, 1)\n",
      "Expected dimension of the output volume (WxHxD): (28, 28, 8)\n",
      "All filters initialized with shape: (3, 3, 1)\n",
      "Expected dimension of the output volume (WxHxD): (28, 28, 8)\n",
      "All filters initialized with shape: (3, 3, 1)\n",
      "Expected dimension of the output volume (WxHxD): (28, 28, 8)\n",
      "All filters initialized with shape: (3, 3, 1)\n",
      "Expected dimension of the output volume (WxHxD): (28, 28, 8)\n",
      "All filters initialized with shape: (3, 3, 1)\n",
      "Expected dimension of the output volume (WxHxD): (28, 28, 8)\n",
      "All filters initialized with shape: (3, 3, 1)\n",
      "Expected dimension of the output volume (WxHxD): (28, 28, 8)\n",
      "All filters initialized with shape: (3, 3, 1)\n",
      "Expected dimension of the output volume (WxHxD): (28, 28, 8)\n",
      "All filters initialized with shape: (3, 3, 1)\n",
      "Expected dimension of the output volume (WxHxD): (28, 28, 8)\n",
      "All filters initialized with shape: (3, 3, 1)\n",
      "Expected dimension of the output volume (WxHxD): (28, 28, 8)\n",
      "All filters initialized with shape: (3, 3, 1)\n",
      "Expected dimension of the output volume (WxHxD): (28, 28, 8)\n",
      "All filters initialized with shape: (3, 3, 1)\n",
      "Expected dimension of the output volume (WxHxD): (28, 28, 8)\n",
      "All filters initialized with shape: (3, 3, 1)\n",
      "Expected dimension of the output volume (WxHxD): (28, 28, 8)\n",
      "All filters initialized with shape: (3, 3, 1)\n",
      "Expected dimension of the output volume (WxHxD): (28, 28, 8)\n",
      "All filters initialized with shape: (3, 3, 1)\n",
      "Expected dimension of the output volume (WxHxD): (28, 28, 8)\n",
      "All filters initialized with shape: (3, 3, 1)\n",
      "Expected dimension of the output volume (WxHxD): (28, 28, 8)\n",
      "All filters initialized with shape: (3, 3, 1)\n",
      "Expected dimension of the output volume (WxHxD): (28, 28, 8)\n",
      "All filters initialized with shape: (3, 3, 1)\n",
      "Expected dimension of the output volume (WxHxD): (28, 28, 8)\n",
      "All filters initialized with shape: (3, 3, 1)\n",
      "Expected dimension of the output volume (WxHxD): (28, 28, 8)\n",
      "All filters initialized with shape: (3, 3, 1)\n",
      "Expected dimension of the output volume (WxHxD): (28, 28, 8)\n",
      "All filters initialized with shape: (3, 3, 1)\n",
      "Expected dimension of the output volume (WxHxD): (28, 28, 8)\n",
      "All filters initialized with shape: (3, 3, 1)\n",
      "Expected dimension of the output volume (WxHxD): (28, 28, 8)\n",
      "All filters initialized with shape: (3, 3, 1)\n",
      "Expected dimension of the output volume (WxHxD): (28, 28, 8)\n",
      "All filters initialized with shape: (3, 3, 1)\n",
      "Expected dimension of the output volume (WxHxD): (28, 28, 8)\n",
      "All filters initialized with shape: (3, 3, 1)\n",
      "Expected dimension of the output volume (WxHxD): (28, 28, 8)\n",
      "All filters initialized with shape: (3, 3, 1)\n",
      "Expected dimension of the output volume (WxHxD): (28, 28, 8)\n",
      "All filters initialized with shape: (3, 3, 1)\n",
      "Expected dimension of the output volume (WxHxD): (28, 28, 8)\n",
      "All filters initialized with shape: (3, 3, 1)\n",
      "Expected dimension of the output volume (WxHxD): (28, 28, 8)\n",
      "All filters initialized with shape: (3, 3, 1)\n",
      "Expected dimension of the output volume (WxHxD): (28, 28, 8)\n",
      "All filters initialized with shape: (3, 3, 1)\n",
      "Expected dimension of the output volume (WxHxD): (28, 28, 8)\n",
      "All filters initialized with shape: (3, 3, 1)\n",
      "Expected dimension of the output volume (WxHxD): (28, 28, 8)\n",
      "All filters initialized with shape: (3, 3, 1)\n",
      "Expected dimension of the output volume (WxHxD): (28, 28, 8)\n",
      "All filters initialized with shape: (3, 3, 1)\n",
      "Expected dimension of the output volume (WxHxD): (28, 28, 8)\n",
      "All filters initialized with shape: (3, 3, 1)\n",
      "Expected dimension of the output volume (WxHxD): (28, 28, 8)\n",
      "All filters initialized with shape: (3, 3, 1)\n",
      "Expected dimension of the output volume (WxHxD): (28, 28, 8)\n",
      "All filters initialized with shape: (3, 3, 1)\n",
      "Expected dimension of the output volume (WxHxD): (28, 28, 8)\n",
      "All filters initialized with shape: (3, 3, 1)\n",
      "Expected dimension of the output volume (WxHxD): (28, 28, 8)\n",
      "All filters initialized with shape: (3, 3, 1)\n",
      "Expected dimension of the output volume (WxHxD): (28, 28, 8)\n",
      "All filters initialized with shape: (3, 3, 1)\n",
      "Expected dimension of the output volume (WxHxD): (28, 28, 8)\n",
      "All filters initialized with shape: (3, 3, 1)\n",
      "Expected dimension of the output volume (WxHxD): (28, 28, 8)\n",
      "All filters initialized with shape: (3, 3, 1)\n",
      "Expected dimension of the output volume (WxHxD): (28, 28, 8)\n",
      "All filters initialized with shape: (3, 3, 1)\n",
      "Expected dimension of the output volume (WxHxD): (28, 28, 8)\n",
      "All filters initialized with shape: (3, 3, 1)\n",
      "Expected dimension of the output volume (WxHxD): (28, 28, 8)\n",
      "All filters initialized with shape: (3, 3, 1)\n",
      "Expected dimension of the output volume (WxHxD): (28, 28, 8)\n",
      "All filters initialized with shape: (3, 3, 1)\n",
      "Expected dimension of the output volume (WxHxD): (28, 28, 8)\n",
      "All filters initialized with shape: (3, 3, 1)\n",
      "Expected dimension of the output volume (WxHxD): (28, 28, 8)\n",
      "All filters initialized with shape: (3, 3, 1)\n",
      "Expected dimension of the output volume (WxHxD): (28, 28, 8)\n",
      "All filters initialized with shape: (3, 3, 1)\n",
      "Expected dimension of the output volume (WxHxD): (28, 28, 8)\n",
      "All filters initialized with shape: (3, 3, 1)\n",
      "Expected dimension of the output volume (WxHxD): (28, 28, 8)\n",
      "All filters initialized with shape: (3, 3, 1)\n",
      "Expected dimension of the output volume (WxHxD): (28, 28, 8)\n",
      "All filters initialized with shape: (3, 3, 1)\n",
      "Expected dimension of the output volume (WxHxD): (28, 28, 8)\n",
      "All filters initialized with shape: (3, 3, 1)\n",
      "Expected dimension of the output volume (WxHxD): (28, 28, 8)\n",
      "All filters initialized with shape: (3, 3, 1)\n",
      "Expected dimension of the output volume (WxHxD): (28, 28, 8)\n",
      "All filters initialized with shape: (3, 3, 1)\n",
      "Expected dimension of the output volume (WxHxD): (28, 28, 8)\n",
      "All filters initialized with shape: (3, 3, 1)\n",
      "Expected dimension of the output volume (WxHxD): (28, 28, 8)\n",
      "All filters initialized with shape: (3, 3, 1)\n",
      "Expected dimension of the output volume (WxHxD): (28, 28, 8)\n",
      "All filters initialized with shape: (3, 3, 1)\n",
      "Expected dimension of the output volume (WxHxD): (28, 28, 8)\n",
      "All filters initialized with shape: (3, 3, 1)\n",
      "Expected dimension of the output volume (WxHxD): (28, 28, 8)\n",
      "All filters initialized with shape: (3, 3, 1)\n",
      "Expected dimension of the output volume (WxHxD): (28, 28, 8)\n",
      "All filters initialized with shape: (3, 3, 1)\n",
      "Expected dimension of the output volume (WxHxD): (28, 28, 8)\n",
      "All filters initialized with shape: (3, 3, 1)\n",
      "Expected dimension of the output volume (WxHxD): (28, 28, 8)\n",
      "All filters initialized with shape: (3, 3, 1)\n",
      "Expected dimension of the output volume (WxHxD): (28, 28, 8)\n",
      "All filters initialized with shape: (3, 3, 1)\n",
      "Expected dimension of the output volume (WxHxD): (28, 28, 8)\n",
      "All filters initialized with shape: (3, 3, 1)\n",
      "Expected dimension of the output volume (WxHxD): (28, 28, 8)\n",
      "All filters initialized with shape: (3, 3, 1)\n",
      "Expected dimension of the output volume (WxHxD): (28, 28, 8)\n",
      "All filters initialized with shape: (3, 3, 1)\n",
      "Expected dimension of the output volume (WxHxD): (28, 28, 8)\n",
      "All filters initialized with shape: (3, 3, 1)\n",
      "Expected dimension of the output volume (WxHxD): (28, 28, 8)\n",
      "All filters initialized with shape: (3, 3, 1)\n",
      "Expected dimension of the output volume (WxHxD): (28, 28, 8)\n",
      "All filters initialized with shape: (3, 3, 1)\n",
      "Expected dimension of the output volume (WxHxD): (28, 28, 8)\n",
      "All filters initialized with shape: (3, 3, 1)\n",
      "Expected dimension of the output volume (WxHxD): (28, 28, 8)\n",
      "All filters initialized with shape: (3, 3, 1)\n",
      "Expected dimension of the output volume (WxHxD): (28, 28, 8)\n",
      "All filters initialized with shape: (3, 3, 1)\n",
      "Expected dimension of the output volume (WxHxD): (28, 28, 8)\n",
      "All filters initialized with shape: (3, 3, 1)\n",
      "Expected dimension of the output volume (WxHxD): (28, 28, 8)\n",
      "All filters initialized with shape: (3, 3, 1)\n",
      "Expected dimension of the output volume (WxHxD): (28, 28, 8)\n",
      "All filters initialized with shape: (3, 3, 1)\n",
      "Expected dimension of the output volume (WxHxD): (28, 28, 8)\n",
      "All filters initialized with shape: (3, 3, 1)\n",
      "Expected dimension of the output volume (WxHxD): (28, 28, 8)\n",
      "Epoch 2/3, Loss: 2.3022\n",
      "All filters initialized with shape: (3, 3, 1)\n",
      "Expected dimension of the output volume (WxHxD): (28, 28, 8)\n",
      "Test sample: True label=2, Predicted=0\n",
      "All filters initialized with shape: (3, 3, 1)\n",
      "Expected dimension of the output volume (WxHxD): (28, 28, 8)\n",
      "All filters initialized with shape: (3, 3, 1)\n",
      "Expected dimension of the output volume (WxHxD): (28, 28, 8)\n",
      "All filters initialized with shape: (3, 3, 1)\n",
      "Expected dimension of the output volume (WxHxD): (28, 28, 8)\n",
      "All filters initialized with shape: (3, 3, 1)\n",
      "Expected dimension of the output volume (WxHxD): (28, 28, 8)\n",
      "All filters initialized with shape: (3, 3, 1)\n",
      "Expected dimension of the output volume (WxHxD): (28, 28, 8)\n",
      "All filters initialized with shape: (3, 3, 1)\n",
      "Expected dimension of the output volume (WxHxD): (28, 28, 8)\n",
      "All filters initialized with shape: (3, 3, 1)\n",
      "Expected dimension of the output volume (WxHxD): (28, 28, 8)\n",
      "All filters initialized with shape: (3, 3, 1)\n",
      "Expected dimension of the output volume (WxHxD): (28, 28, 8)\n",
      "All filters initialized with shape: (3, 3, 1)\n",
      "Expected dimension of the output volume (WxHxD): (28, 28, 8)\n",
      "All filters initialized with shape: (3, 3, 1)\n",
      "Expected dimension of the output volume (WxHxD): (28, 28, 8)\n",
      "All filters initialized with shape: (3, 3, 1)\n",
      "Expected dimension of the output volume (WxHxD): (28, 28, 8)\n",
      "All filters initialized with shape: (3, 3, 1)\n",
      "Expected dimension of the output volume (WxHxD): (28, 28, 8)\n",
      "All filters initialized with shape: (3, 3, 1)\n",
      "Expected dimension of the output volume (WxHxD): (28, 28, 8)\n",
      "All filters initialized with shape: (3, 3, 1)\n",
      "Expected dimension of the output volume (WxHxD): (28, 28, 8)\n",
      "All filters initialized with shape: (3, 3, 1)\n",
      "Expected dimension of the output volume (WxHxD): (28, 28, 8)\n",
      "All filters initialized with shape: (3, 3, 1)\n",
      "Expected dimension of the output volume (WxHxD): (28, 28, 8)\n",
      "All filters initialized with shape: (3, 3, 1)\n",
      "Expected dimension of the output volume (WxHxD): (28, 28, 8)\n",
      "All filters initialized with shape: (3, 3, 1)\n",
      "Expected dimension of the output volume (WxHxD): (28, 28, 8)\n",
      "All filters initialized with shape: (3, 3, 1)\n",
      "Expected dimension of the output volume (WxHxD): (28, 28, 8)\n",
      "All filters initialized with shape: (3, 3, 1)\n",
      "Expected dimension of the output volume (WxHxD): (28, 28, 8)\n",
      "All filters initialized with shape: (3, 3, 1)\n",
      "Expected dimension of the output volume (WxHxD): (28, 28, 8)\n",
      "All filters initialized with shape: (3, 3, 1)\n",
      "Expected dimension of the output volume (WxHxD): (28, 28, 8)\n",
      "All filters initialized with shape: (3, 3, 1)\n",
      "Expected dimension of the output volume (WxHxD): (28, 28, 8)\n",
      "All filters initialized with shape: (3, 3, 1)\n",
      "Expected dimension of the output volume (WxHxD): (28, 28, 8)\n",
      "All filters initialized with shape: (3, 3, 1)\n",
      "Expected dimension of the output volume (WxHxD): (28, 28, 8)\n",
      "All filters initialized with shape: (3, 3, 1)\n",
      "Expected dimension of the output volume (WxHxD): (28, 28, 8)\n",
      "All filters initialized with shape: (3, 3, 1)\n",
      "Expected dimension of the output volume (WxHxD): (28, 28, 8)\n",
      "All filters initialized with shape: (3, 3, 1)\n",
      "Expected dimension of the output volume (WxHxD): (28, 28, 8)\n",
      "All filters initialized with shape: (3, 3, 1)\n",
      "Expected dimension of the output volume (WxHxD): (28, 28, 8)\n",
      "All filters initialized with shape: (3, 3, 1)\n",
      "Expected dimension of the output volume (WxHxD): (28, 28, 8)\n",
      "All filters initialized with shape: (3, 3, 1)\n",
      "Expected dimension of the output volume (WxHxD): (28, 28, 8)\n",
      "All filters initialized with shape: (3, 3, 1)\n",
      "Expected dimension of the output volume (WxHxD): (28, 28, 8)\n",
      "All filters initialized with shape: (3, 3, 1)\n",
      "Expected dimension of the output volume (WxHxD): (28, 28, 8)\n",
      "All filters initialized with shape: (3, 3, 1)\n",
      "Expected dimension of the output volume (WxHxD): (28, 28, 8)\n",
      "All filters initialized with shape: (3, 3, 1)\n",
      "Expected dimension of the output volume (WxHxD): (28, 28, 8)\n",
      "All filters initialized with shape: (3, 3, 1)\n",
      "Expected dimension of the output volume (WxHxD): (28, 28, 8)\n",
      "All filters initialized with shape: (3, 3, 1)\n",
      "Expected dimension of the output volume (WxHxD): (28, 28, 8)\n",
      "All filters initialized with shape: (3, 3, 1)\n",
      "Expected dimension of the output volume (WxHxD): (28, 28, 8)\n",
      "All filters initialized with shape: (3, 3, 1)\n",
      "Expected dimension of the output volume (WxHxD): (28, 28, 8)\n",
      "All filters initialized with shape: (3, 3, 1)\n",
      "Expected dimension of the output volume (WxHxD): (28, 28, 8)\n",
      "All filters initialized with shape: (3, 3, 1)\n",
      "Expected dimension of the output volume (WxHxD): (28, 28, 8)\n",
      "All filters initialized with shape: (3, 3, 1)\n",
      "Expected dimension of the output volume (WxHxD): (28, 28, 8)\n",
      "All filters initialized with shape: (3, 3, 1)\n",
      "Expected dimension of the output volume (WxHxD): (28, 28, 8)\n",
      "All filters initialized with shape: (3, 3, 1)\n",
      "Expected dimension of the output volume (WxHxD): (28, 28, 8)\n",
      "All filters initialized with shape: (3, 3, 1)\n",
      "Expected dimension of the output volume (WxHxD): (28, 28, 8)\n",
      "All filters initialized with shape: (3, 3, 1)\n",
      "Expected dimension of the output volume (WxHxD): (28, 28, 8)\n",
      "All filters initialized with shape: (3, 3, 1)\n",
      "Expected dimension of the output volume (WxHxD): (28, 28, 8)\n",
      "All filters initialized with shape: (3, 3, 1)\n",
      "Expected dimension of the output volume (WxHxD): (28, 28, 8)\n",
      "All filters initialized with shape: (3, 3, 1)\n",
      "Expected dimension of the output volume (WxHxD): (28, 28, 8)\n",
      "All filters initialized with shape: (3, 3, 1)\n",
      "Expected dimension of the output volume (WxHxD): (28, 28, 8)\n",
      "All filters initialized with shape: (3, 3, 1)\n",
      "Expected dimension of the output volume (WxHxD): (28, 28, 8)\n",
      "All filters initialized with shape: (3, 3, 1)\n",
      "Expected dimension of the output volume (WxHxD): (28, 28, 8)\n",
      "All filters initialized with shape: (3, 3, 1)\n",
      "Expected dimension of the output volume (WxHxD): (28, 28, 8)\n",
      "All filters initialized with shape: (3, 3, 1)\n",
      "Expected dimension of the output volume (WxHxD): (28, 28, 8)\n",
      "All filters initialized with shape: (3, 3, 1)\n",
      "Expected dimension of the output volume (WxHxD): (28, 28, 8)\n",
      "All filters initialized with shape: (3, 3, 1)\n",
      "Expected dimension of the output volume (WxHxD): (28, 28, 8)\n",
      "All filters initialized with shape: (3, 3, 1)\n",
      "Expected dimension of the output volume (WxHxD): (28, 28, 8)\n",
      "All filters initialized with shape: (3, 3, 1)\n",
      "Expected dimension of the output volume (WxHxD): (28, 28, 8)\n",
      "All filters initialized with shape: (3, 3, 1)\n",
      "Expected dimension of the output volume (WxHxD): (28, 28, 8)\n",
      "All filters initialized with shape: (3, 3, 1)\n",
      "Expected dimension of the output volume (WxHxD): (28, 28, 8)\n",
      "All filters initialized with shape: (3, 3, 1)\n",
      "Expected dimension of the output volume (WxHxD): (28, 28, 8)\n",
      "All filters initialized with shape: (3, 3, 1)\n",
      "Expected dimension of the output volume (WxHxD): (28, 28, 8)\n",
      "All filters initialized with shape: (3, 3, 1)\n",
      "Expected dimension of the output volume (WxHxD): (28, 28, 8)\n",
      "All filters initialized with shape: (3, 3, 1)\n",
      "Expected dimension of the output volume (WxHxD): (28, 28, 8)\n",
      "All filters initialized with shape: (3, 3, 1)\n",
      "Expected dimension of the output volume (WxHxD): (28, 28, 8)\n",
      "All filters initialized with shape: (3, 3, 1)\n",
      "Expected dimension of the output volume (WxHxD): (28, 28, 8)\n",
      "All filters initialized with shape: (3, 3, 1)\n",
      "Expected dimension of the output volume (WxHxD): (28, 28, 8)\n",
      "All filters initialized with shape: (3, 3, 1)\n",
      "Expected dimension of the output volume (WxHxD): (28, 28, 8)\n",
      "All filters initialized with shape: (3, 3, 1)\n",
      "Expected dimension of the output volume (WxHxD): (28, 28, 8)\n",
      "All filters initialized with shape: (3, 3, 1)\n",
      "Expected dimension of the output volume (WxHxD): (28, 28, 8)\n",
      "All filters initialized with shape: (3, 3, 1)\n",
      "Expected dimension of the output volume (WxHxD): (28, 28, 8)\n",
      "All filters initialized with shape: (3, 3, 1)\n",
      "Expected dimension of the output volume (WxHxD): (28, 28, 8)\n",
      "All filters initialized with shape: (3, 3, 1)\n",
      "Expected dimension of the output volume (WxHxD): (28, 28, 8)\n",
      "All filters initialized with shape: (3, 3, 1)\n",
      "Expected dimension of the output volume (WxHxD): (28, 28, 8)\n",
      "All filters initialized with shape: (3, 3, 1)\n",
      "Expected dimension of the output volume (WxHxD): (28, 28, 8)\n",
      "All filters initialized with shape: (3, 3, 1)\n",
      "Expected dimension of the output volume (WxHxD): (28, 28, 8)\n",
      "All filters initialized with shape: (3, 3, 1)\n",
      "Expected dimension of the output volume (WxHxD): (28, 28, 8)\n",
      "All filters initialized with shape: (3, 3, 1)\n",
      "Expected dimension of the output volume (WxHxD): (28, 28, 8)\n",
      "All filters initialized with shape: (3, 3, 1)\n",
      "Expected dimension of the output volume (WxHxD): (28, 28, 8)\n",
      "All filters initialized with shape: (3, 3, 1)\n",
      "Expected dimension of the output volume (WxHxD): (28, 28, 8)\n",
      "All filters initialized with shape: (3, 3, 1)\n",
      "Expected dimension of the output volume (WxHxD): (28, 28, 8)\n",
      "All filters initialized with shape: (3, 3, 1)\n",
      "Expected dimension of the output volume (WxHxD): (28, 28, 8)\n",
      "All filters initialized with shape: (3, 3, 1)\n",
      "Expected dimension of the output volume (WxHxD): (28, 28, 8)\n",
      "All filters initialized with shape: (3, 3, 1)\n",
      "Expected dimension of the output volume (WxHxD): (28, 28, 8)\n",
      "All filters initialized with shape: (3, 3, 1)\n",
      "Expected dimension of the output volume (WxHxD): (28, 28, 8)\n",
      "All filters initialized with shape: (3, 3, 1)\n",
      "Expected dimension of the output volume (WxHxD): (28, 28, 8)\n",
      "All filters initialized with shape: (3, 3, 1)\n",
      "Expected dimension of the output volume (WxHxD): (28, 28, 8)\n",
      "All filters initialized with shape: (3, 3, 1)\n",
      "Expected dimension of the output volume (WxHxD): (28, 28, 8)\n",
      "All filters initialized with shape: (3, 3, 1)\n",
      "Expected dimension of the output volume (WxHxD): (28, 28, 8)\n",
      "All filters initialized with shape: (3, 3, 1)\n",
      "Expected dimension of the output volume (WxHxD): (28, 28, 8)\n",
      "All filters initialized with shape: (3, 3, 1)\n",
      "Expected dimension of the output volume (WxHxD): (28, 28, 8)\n",
      "All filters initialized with shape: (3, 3, 1)\n",
      "Expected dimension of the output volume (WxHxD): (28, 28, 8)\n",
      "All filters initialized with shape: (3, 3, 1)\n",
      "Expected dimension of the output volume (WxHxD): (28, 28, 8)\n",
      "All filters initialized with shape: (3, 3, 1)\n",
      "Expected dimension of the output volume (WxHxD): (28, 28, 8)\n",
      "All filters initialized with shape: (3, 3, 1)\n",
      "Expected dimension of the output volume (WxHxD): (28, 28, 8)\n",
      "All filters initialized with shape: (3, 3, 1)\n",
      "Expected dimension of the output volume (WxHxD): (28, 28, 8)\n",
      "All filters initialized with shape: (3, 3, 1)\n",
      "Expected dimension of the output volume (WxHxD): (28, 28, 8)\n",
      "All filters initialized with shape: (3, 3, 1)\n",
      "Expected dimension of the output volume (WxHxD): (28, 28, 8)\n",
      "All filters initialized with shape: (3, 3, 1)\n",
      "Expected dimension of the output volume (WxHxD): (28, 28, 8)\n",
      "All filters initialized with shape: (3, 3, 1)\n",
      "Expected dimension of the output volume (WxHxD): (28, 28, 8)\n",
      "Epoch 3/3, Loss: 2.3017\n",
      "All filters initialized with shape: (3, 3, 1)\n",
      "Expected dimension of the output volume (WxHxD): (28, 28, 8)\n",
      "Test sample: True label=1, Predicted=4\n"
     ]
    },
    {
     "data": {
      "image/png": "[encoded data removed]",
      "text/plain": [
       "<Figure size 1000x500 with 1 Axes>"
      ]
     },
     "metadata": {},
     "output_type": "display_data"
    },
    {
     "name": "stdout",
     "output_type": "stream",
     "text": [
      "All filters initialized with shape: (3, 3, 1)\n",
      "Expected dimension of the output volume (WxHxD): (28, 28, 8)\n",
      "All filters initialized with shape: (3, 3, 1)\n",
      "Expected dimension of the output volume (WxHxD): (28, 28, 8)\n",
      "All filters initialized with shape: (3, 3, 1)\n",
      "Expected dimension of the output volume (WxHxD): (28, 28, 8)\n",
      "All filters initialized with shape: (3, 3, 1)\n",
      "Expected dimension of the output volume (WxHxD): (28, 28, 8)\n",
      "All filters initialized with shape: (3, 3, 1)\n",
      "Expected dimension of the output volume (WxHxD): (28, 28, 8)\n"
     ]
    },
    {
     "data": {
      "image/png": "[encoded data removed]",
      "text/plain": [
       "<Figure size 1500x300 with 5 Axes>"
      ]
     },
     "metadata": {},
     "output_type": "display_data"
    },
    {
     "name": "stdout",
     "output_type": "stream",
     "text": [
      "Test completed!\n"
     ]
    }
   ],
   "source": [
    "# Run with a small subset for quick testing\n",
    "num_samples_to_test = 100\n",
    "cnn_model = run_mnist_test(X_train, y_train, num_samples=num_samples_to_test)"
   ]
  },
  {
   "cell_type": "markdown",
   "metadata": {},
   "source": [
    "# References\n",
    "1. https://www.jefkine.com/general/2016/09/05/backpropagation-in-convolutional-neural-networks/?source=post_page-----46026a8f5d2c---------------------------------------\n",
    "2. https://www.youtube.com/watch?v=lZrIPRnoGQQ\n",
    "3. chrome-extension://efaidnbmnnnibpcajpcglclefindmkaj/https://web.stanford.edu/class/archive/cs/cs224n/cs224n.1184/lectures/lecture5.pdf"
   ]
  }
 ],
 "metadata": {
  "kernelspec": {
   "display_name": "base",
   "language": "python",
   "name": "python3"
  },
  "language_info": {
   "codemirror_mode": {
    "name": "ipython",
    "version": 3
   },
   "file_extension": ".py",
   "mimetype": "text/x-python",
   "name": "python",
   "nbconvert_exporter": "python",
   "pygments_lexer": "ipython3",
   "version": "3.11.4"
  }
 },
 "nbformat": 4,
 "nbformat_minor": 2
}
